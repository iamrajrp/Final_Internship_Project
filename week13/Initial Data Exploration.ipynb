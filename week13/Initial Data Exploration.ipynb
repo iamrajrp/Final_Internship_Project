{
 "cells": [
  {
   "cell_type": "code",
   "execution_count": 1,
   "id": "c5e82530-ab0c-440e-9cd7-db4a393cea20",
   "metadata": {},
   "outputs": [],
   "source": [
    "import pandas as pd\n",
    "\n",
    "test = pd.read_csv(r\"C:\\After Backup\\Virtual Internship\\Week 7 Project\\Cross Selling\\Cross Selling\\Test.csv\", low_memory=False)"
   ]
  },
  {
   "cell_type": "code",
   "execution_count": 2,
   "id": "1b96d159-ca88-4693-8cee-b55f2fb6c070",
   "metadata": {},
   "outputs": [
    {
     "name": "stdout",
     "output_type": "stream",
     "text": [
      "Test shape: (929615, 24)\n"
     ]
    }
   ],
   "source": [
    "print(\"Test shape:\", test.shape)"
   ]
  },
  {
   "cell_type": "code",
   "execution_count": 3,
   "id": "428ee9d9-519d-43c4-9f4b-a614fa2ec390",
   "metadata": {},
   "outputs": [
    {
     "name": "stdout",
     "output_type": "stream",
     "text": [
      "\n",
      "--- Test Dataset Info ---\n",
      "<class 'pandas.core.frame.DataFrame'>\n",
      "RangeIndex: 929615 entries, 0 to 929614\n",
      "Data columns (total 24 columns):\n",
      " #   Column                 Non-Null Count   Dtype  \n",
      "---  ------                 --------------   -----  \n",
      " 0   fecha_dato             929615 non-null  object \n",
      " 1   ncodpers               929615 non-null  int64  \n",
      " 2   ind_empleado           929615 non-null  object \n",
      " 3   pais_residencia        929615 non-null  object \n",
      " 4   sexo                   929610 non-null  object \n",
      " 5   age                    929615 non-null  int64  \n",
      " 6   fecha_alta             929615 non-null  object \n",
      " 7   ind_nuevo              929615 non-null  int64  \n",
      " 8   antiguedad             929615 non-null  int64  \n",
      " 9   indrel                 929615 non-null  int64  \n",
      " 10  ult_fec_cli_1t         1683 non-null    object \n",
      " 11  indrel_1mes            929592 non-null  float64\n",
      " 12  tiprel_1mes            929592 non-null  object \n",
      " 13  indresi                929615 non-null  object \n",
      " 14  indext                 929615 non-null  object \n",
      " 15  conyuemp               104 non-null     object \n",
      " 16  canal_entrada          927534 non-null  object \n",
      " 17  indfall                929615 non-null  object \n",
      " 18  tipodom                929615 non-null  int64  \n",
      " 19  cod_prov               925619 non-null  float64\n",
      " 20  nomprov                925619 non-null  object \n",
      " 21  ind_actividad_cliente  929615 non-null  int64  \n",
      " 22  renta                  929615 non-null  object \n",
      " 23  segmento               927367 non-null  object \n",
      "dtypes: float64(2), int64(7), object(15)\n",
      "memory usage: 170.2+ MB\n"
     ]
    }
   ],
   "source": [
    "print(\"\\n--- Test Dataset Info ---\")\n",
    "test_info = test.info()"
   ]
  },
  {
   "cell_type": "code",
   "execution_count": 4,
   "id": "30a77edd-2021-4fff-af1f-c0461aad9467",
   "metadata": {},
   "outputs": [
    {
     "name": "stdout",
     "output_type": "stream",
     "text": [
      "\n",
      "--- Missing Values in Test ---\n",
      "sexo                   5\n",
      "ult_fec_cli_1t    927932\n",
      "indrel_1mes           23\n",
      "tiprel_1mes           23\n",
      "conyuemp          929511\n",
      "canal_entrada       2081\n",
      "cod_prov            3996\n",
      "nomprov             3996\n",
      "segmento            2248\n",
      "dtype: int64\n"
     ]
    }
   ],
   "source": [
    "print(\"\\n--- Missing Values in Test ---\")\n",
    "print(test.isnull().sum()[test.isnull().sum() > 0])"
   ]
  },
  {
   "cell_type": "code",
   "execution_count": 5,
   "id": "2b90c89e-b167-482e-bb10-d6231c003e35",
   "metadata": {},
   "outputs": [
    {
     "name": "stdout",
     "output_type": "stream",
     "text": [
      "\n",
      "--- Data Types in Test ---\n",
      "object     15\n",
      "int64       7\n",
      "float64     2\n",
      "Name: count, dtype: int64\n"
     ]
    }
   ],
   "source": [
    "print(\"\\n--- Data Types in Test ---\")\n",
    "print(test.dtypes.value_counts())"
   ]
  },
  {
   "cell_type": "code",
   "execution_count": 6,
   "id": "e671e147-68ef-480c-b8e0-aec8694cc073",
   "metadata": {},
   "outputs": [],
   "source": [
    "test_summary = test.describe(include='all')"
   ]
  },
  {
   "cell_type": "code",
   "execution_count": 7,
   "id": "e5f9991c-2784-4b66-a39e-49ed823799c6",
   "metadata": {},
   "outputs": [],
   "source": [
    "import dask.dataframe as dd"
   ]
  },
  {
   "cell_type": "code",
   "execution_count": 8,
   "id": "38599632-6695-45af-b661-ed7cab58bb5c",
   "metadata": {},
   "outputs": [],
   "source": [
    "train = dd.read_csv(r\"C:\\After Backup\\Virtual Internship\\Week 7 Project\\Cross Selling\\Cross Selling\\Train.csv\")"
   ]
  },
  {
   "cell_type": "code",
   "execution_count": 9,
   "id": "2afdcdd3-e84a-4ea9-9e10-c191ded0506e",
   "metadata": {},
   "outputs": [
    {
     "name": "stdout",
     "output_type": "stream",
     "text": [
      "\n",
      "--- Train Shape ---\n",
      "(<dask_expr.expr.Scalar: expr=ArrowStringConversion(frame=FromMapProjectable(e2fef14)).size() // 48, dtype=int64>, 48)\n"
     ]
    }
   ],
   "source": [
    "print(\"\\n--- Train Shape ---\")\n",
    "print(train.shape)"
   ]
  },
  {
   "cell_type": "code",
   "execution_count": 10,
   "id": "7ae19b97-22a0-4106-a793-84e061cf3391",
   "metadata": {},
   "outputs": [
    {
     "name": "stdout",
     "output_type": "stream",
     "text": [
      "\n",
      "--- Data Types in Train ---\n",
      "int64              32\n",
      "string[pyarrow]    12\n",
      "float64             4\n",
      "Name: count, dtype: int64\n"
     ]
    }
   ],
   "source": [
    "print(\"\\n--- Data Types in Train ---\")\n",
    "print(train.dtypes.value_counts())"
   ]
  },
  {
   "cell_type": "code",
   "execution_count": 11,
   "id": "ed01437d-bad0-43c5-aaa5-0d32d04adc31",
   "metadata": {
    "scrolled": true
   },
   "outputs": [
    {
     "name": "stdout",
     "output_type": "stream",
     "text": [
      "\n",
      "--- Full Data Types ---\n",
      "fecha_dato               string[pyarrow]\n",
      "ncodpers                           int64\n",
      "ind_empleado             string[pyarrow]\n",
      "pais_residencia          string[pyarrow]\n",
      "sexo                     string[pyarrow]\n",
      "age                                int64\n",
      "fecha_alta               string[pyarrow]\n",
      "ind_nuevo                          int64\n",
      "antiguedad                         int64\n",
      "indrel                             int64\n",
      "ult_fec_cli_1t                   float64\n",
      "indrel_1mes                      float64\n",
      "tiprel_1mes              string[pyarrow]\n",
      "indresi                  string[pyarrow]\n",
      "indext                   string[pyarrow]\n",
      "conyuemp                         float64\n",
      "canal_entrada            string[pyarrow]\n",
      "indfall                  string[pyarrow]\n",
      "tipodom                            int64\n",
      "cod_prov                           int64\n",
      "nomprov                  string[pyarrow]\n",
      "ind_actividad_cliente              int64\n",
      "renta                            float64\n",
      "segmento                 string[pyarrow]\n",
      "ind_ahor_fin_ult1                  int64\n",
      "ind_aval_fin_ult1                  int64\n",
      "ind_cco_fin_ult1                   int64\n",
      "ind_cder_fin_ult1                  int64\n",
      "ind_cno_fin_ult1                   int64\n",
      "ind_ctju_fin_ult1                  int64\n",
      "ind_ctma_fin_ult1                  int64\n",
      "ind_ctop_fin_ult1                  int64\n",
      "ind_ctpp_fin_ult1                  int64\n",
      "ind_deco_fin_ult1                  int64\n",
      "ind_deme_fin_ult1                  int64\n",
      "ind_dela_fin_ult1                  int64\n",
      "ind_ecue_fin_ult1                  int64\n",
      "ind_fond_fin_ult1                  int64\n",
      "ind_hip_fin_ult1                   int64\n",
      "ind_plan_fin_ult1                  int64\n",
      "ind_pres_fin_ult1                  int64\n",
      "ind_reca_fin_ult1                  int64\n",
      "ind_tjcr_fin_ult1                  int64\n",
      "ind_valo_fin_ult1                  int64\n",
      "ind_viv_fin_ult1                   int64\n",
      "ind_nomina_ult1                    int64\n",
      "ind_nom_pens_ult1                  int64\n",
      "ind_recibo_ult1                    int64\n",
      "dtype: object\n"
     ]
    }
   ],
   "source": [
    "print(\"\\n--- Full Data Types ---\")\n",
    "print(train.dtypes)"
   ]
  },
  {
   "cell_type": "code",
   "execution_count": 19,
   "id": "34586ce6-8859-4550-a85a-f214b837fa0d",
   "metadata": {},
   "outputs": [],
   "source": [
    "dtypes = {\n",
    "    'cod_prov': 'float64',\n",
    "    'conyuemp': 'object',\n",
    "    'indrel_1mes': 'object',\n",
    "    'ult_fec_cli_1t': 'object',\n",
    "    'age': 'object',\n",
    "    'antiguedad': 'object',\n",
    "    'ind_actividad_cliente': 'float64',\n",
    "    'ind_nom_pens_ult1': 'float64',\n",
    "    'ind_nomina_ult1': 'float64',\n",
    "    'ind_nuevo': 'float64',\n",
    "    'indrel': 'float64',\n",
    "    'tipodom': 'float64'\n",
    "}"
   ]
  },
  {
   "cell_type": "code",
   "execution_count": 20,
   "id": "465caf36-0621-4ea0-b0fd-4c6b0e98af2b",
   "metadata": {},
   "outputs": [],
   "source": [
    "train = dd.read_csv(r\"C:\\After Backup\\Virtual Internship\\Week 7 Project\\Cross Selling\\Cross Selling\\Train.csv\", dtype=dtypes)"
   ]
  },
  {
   "cell_type": "code",
   "execution_count": 21,
   "id": "4c92b4d0-6891-4f03-bb38-5abba6c5b2b7",
   "metadata": {},
   "outputs": [
    {
     "name": "stdout",
     "output_type": "stream",
     "text": [
      "\n",
      "--- Train Shape ---\n",
      "(<dask_expr.expr.Scalar: expr=ArrowStringConversion(frame=FromMapProjectable(6c514c6)).size() // 48, dtype=int64>, 48)\n"
     ]
    }
   ],
   "source": [
    "print(\"\\n--- Train Shape ---\")\n",
    "print(train.shape)"
   ]
  },
  {
   "cell_type": "code",
   "execution_count": 25,
   "id": "222eb3da-7de9-43a7-a405-3adea819172e",
   "metadata": {},
   "outputs": [
    {
     "name": "stdout",
     "output_type": "stream",
     "text": [
      "\n",
      "--- Data Types in Train ---\n",
      "int64              23\n",
      "string[pyarrow]    17\n",
      "float64             8\n",
      "Name: count, dtype: int64\n"
     ]
    }
   ],
   "source": [
    "print(\"\\n--- Data Types in Train ---\")\n",
    "print(train.dtypes.value_counts())"
   ]
  },
  {
   "cell_type": "code",
   "execution_count": 26,
   "id": "7596b7cc-5dbf-485b-bc3a-a65502e527dd",
   "metadata": {},
   "outputs": [
    {
     "name": "stdout",
     "output_type": "stream",
     "text": [
      "\n",
      "--- Full Data Types ---\n",
      "fecha_dato               string[pyarrow]\n",
      "ncodpers                           int64\n",
      "ind_empleado             string[pyarrow]\n",
      "pais_residencia          string[pyarrow]\n",
      "sexo                     string[pyarrow]\n",
      "age                      string[pyarrow]\n",
      "fecha_alta               string[pyarrow]\n",
      "ind_nuevo                        float64\n",
      "antiguedad               string[pyarrow]\n",
      "indrel                           float64\n",
      "ult_fec_cli_1t           string[pyarrow]\n",
      "indrel_1mes              string[pyarrow]\n",
      "tiprel_1mes              string[pyarrow]\n",
      "indresi                  string[pyarrow]\n",
      "indext                   string[pyarrow]\n",
      "conyuemp                 string[pyarrow]\n",
      "canal_entrada            string[pyarrow]\n",
      "indfall                  string[pyarrow]\n",
      "tipodom                          float64\n",
      "cod_prov                         float64\n",
      "nomprov                  string[pyarrow]\n",
      "ind_actividad_cliente            float64\n",
      "renta                            float64\n",
      "segmento                 string[pyarrow]\n",
      "ind_ahor_fin_ult1                  int64\n",
      "ind_aval_fin_ult1                  int64\n",
      "ind_cco_fin_ult1                   int64\n",
      "ind_cder_fin_ult1                  int64\n",
      "ind_cno_fin_ult1                   int64\n",
      "ind_ctju_fin_ult1                  int64\n",
      "ind_ctma_fin_ult1                  int64\n",
      "ind_ctop_fin_ult1                  int64\n",
      "ind_ctpp_fin_ult1                  int64\n",
      "ind_deco_fin_ult1                  int64\n",
      "ind_deme_fin_ult1                  int64\n",
      "ind_dela_fin_ult1                  int64\n",
      "ind_ecue_fin_ult1                  int64\n",
      "ind_fond_fin_ult1                  int64\n",
      "ind_hip_fin_ult1                   int64\n",
      "ind_plan_fin_ult1                  int64\n",
      "ind_pres_fin_ult1                  int64\n",
      "ind_reca_fin_ult1                  int64\n",
      "ind_tjcr_fin_ult1                  int64\n",
      "ind_valo_fin_ult1                  int64\n",
      "ind_viv_fin_ult1                   int64\n",
      "ind_nomina_ult1                  float64\n",
      "ind_nom_pens_ult1                float64\n",
      "ind_recibo_ult1                    int64\n",
      "dtype: object\n"
     ]
    }
   ],
   "source": [
    "print(\"\\n--- Full Data Types ---\")\n",
    "print(train.dtypes)"
   ]
  },
  {
   "cell_type": "code",
   "execution_count": 27,
   "id": "0483ffc5-510d-4ea6-a68c-89db08592a20",
   "metadata": {},
   "outputs": [
    {
     "name": "stdout",
     "output_type": "stream",
     "text": [
      "\n",
      "--- Missing Values in Train ---\n",
      "ind_empleado                27734\n",
      "pais_residencia             27734\n",
      "sexo                        27804\n",
      "fecha_alta                  27734\n",
      "ind_nuevo                   27734\n",
      "indrel                      27734\n",
      "ult_fec_cli_1t           13622516\n",
      "indrel_1mes                149781\n",
      "tiprel_1mes                149781\n",
      "indresi                     27734\n",
      "indext                      27734\n",
      "conyuemp                 13645501\n",
      "canal_entrada              186126\n",
      "indfall                     27734\n",
      "tipodom                     27735\n",
      "cod_prov                    93591\n",
      "nomprov                     93591\n",
      "ind_actividad_cliente       27734\n",
      "renta                     2794375\n",
      "segmento                   189368\n",
      "ind_nomina_ult1             16063\n",
      "ind_nom_pens_ult1           16063\n",
      "dtype: int64\n"
     ]
    }
   ],
   "source": [
    "print(\"\\n--- Missing Values in Train ---\")\n",
    "missing = train.isnull().sum().compute()\n",
    "print(missing[missing > 0])"
   ]
  },
  {
   "cell_type": "code",
   "execution_count": 28,
   "id": "8298d43d-54be-45b0-a3bd-621ac64e5b7a",
   "metadata": {},
   "outputs": [],
   "source": [
    "# Clean up ' NA' strings\n",
    "train['age'] = train['age'].map_partitions(lambda df: pd.to_numeric(df.str.strip(), errors='coerce'))\n",
    "train['antiguedad'] = train['antiguedad'].map_partitions(lambda df: pd.to_numeric(df.str.strip(), errors='coerce'))"
   ]
  },
  {
   "cell_type": "code",
   "execution_count": null,
   "id": "61dbcb51-c398-4c9a-8a46-38181974b76c",
   "metadata": {},
   "outputs": [],
   "source": []
  }
 ],
 "metadata": {
  "kernelspec": {
   "display_name": "Python 3 (ipykernel)",
   "language": "python",
   "name": "python3"
  },
  "language_info": {
   "codemirror_mode": {
    "name": "ipython",
    "version": 3
   },
   "file_extension": ".py",
   "mimetype": "text/x-python",
   "name": "python",
   "nbconvert_exporter": "python",
   "pygments_lexer": "ipython3",
   "version": "3.12.9"
  }
 },
 "nbformat": 4,
 "nbformat_minor": 5
}
