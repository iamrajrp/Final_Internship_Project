{
 "cells": [
  {
   "cell_type": "markdown",
   "id": "aa74195e-3c7e-41a1-8fa4-063c6a128561",
   "metadata": {},
   "source": [
    "## Review by Raj Pawar:\n",
    "### 1. Pavithra’s approach complements the initial cleaning by applying segment-based imputation and handling remaining inconsistencies\n",
    "### 2. The use of map_partitions and median calculations across segments was efficient and well-suited for large-scale data\n",
    "### 3. Clipping renta outliers ensures the data is well-bounded for analysis without distortion\n",
    "### 4. Final cleaned file was reliable and immediately usable for EDA and modeling\n",
    "### 5. Great continuation from baseline cleaning; strong adherence to business-context-driven preprocessing\n",
    "\n",
    "# -------------------------------------------------------------------------------------------"
   ]
  },
  {
   "cell_type": "markdown",
   "id": "9cbae339-1edb-410d-bf69-56a96650522a",
   "metadata": {},
   "source": [
    "# Naga Pavithra Jajala - Data Cleansing Notebook"
   ]
  },
  {
   "cell_type": "code",
   "execution_count": 1,
   "id": "d7d0e75b-4a24-4dd3-9d9a-ecf4beb35dfa",
   "metadata": {},
   "outputs": [],
   "source": [
    "import dask.dataframe as dd\n",
    "import numpy as np\n",
    "import pandas as pd"
   ]
  },
  {
   "cell_type": "code",
   "execution_count": 2,
   "id": "4e07e88c-c061-4ce3-b5ba-fbc8dc238cde",
   "metadata": {},
   "outputs": [],
   "source": [
    "dtypes = {\n",
    "    'age': 'object',\n",
    "    'antiguedad': 'object',\n",
    "    'renta': 'float64',\n",
    "    'indrel_1mes': 'object',\n",
    "    'conyuemp': 'object',\n",
    "    'ult_fec_cli_1t': 'object',\n",
    "    'tiprel_1mes': 'object',\n",
    "    'canal_entrada': 'object',\n",
    "    'segmento': 'object'\n",
    "}\n",
    "\n",
    "df = dd.read_csv(r\"C:\\Internship Project\\Train.csv\", dtype=dtypes, assume_missing=True)"
   ]
  },
  {
   "cell_type": "markdown",
   "id": "e90b75e6-8625-412f-8a54-63117def5d94",
   "metadata": {},
   "source": [
    "# Segmented Median Imputation for Remaining Missing Values"
   ]
  },
  {
   "cell_type": "code",
   "execution_count": 3,
   "id": "384d45b2-a410-49e3-a36d-489194e09a24",
   "metadata": {},
   "outputs": [],
   "source": [
    "def segment_median_fill(df):\n",
    "    medians = df.groupby('segmento')['renta'].median().compute()\n",
    "    return df.map_partitions(lambda d: d.assign(\n",
    "        renta=d['renta'].fillna(d['segmento'].map(medians))\n",
    "    ), meta=df)\n",
    "\n",
    "df = segment_median_fill(df)"
   ]
  },
  {
   "cell_type": "code",
   "execution_count": 4,
   "id": "12db3cec-3e09-462a-a0a6-60b1587b2cf3",
   "metadata": {},
   "outputs": [
    {
     "name": "stdout",
     "output_type": "stream",
     "text": [
      "\n",
      "Processing column: canal_entrada\n",
      "Mode for canal_entrada: KHE\n",
      "\n",
      "Processing column: tiprel_1mes\n",
      "Mode for tiprel_1mes: I\n",
      "\n",
      "Processing column: indrel_1mes\n",
      "Mode for indrel_1mes: 1.0\n"
     ]
    }
   ],
   "source": [
    "import numpy as np\n",
    "import pandas as pd\n",
    "\n",
    "for col in ['canal_entrada', 'tiprel_1mes', 'indrel_1mes']:\n",
    "    print(f\"\\nProcessing column: {col}\")\n",
    "\n",
    "    try:\n",
    "        # Clean the column\n",
    "        df[col] = df[col].str.strip().replace(\"NA\", np.nan)\n",
    "\n",
    "        # Convert to Pandas Series safely\n",
    "        series = df[[col]].dropna().compute()\n",
    "        series = series.reset_index(drop=True)\n",
    "\n",
    "        # Compute mode\n",
    "        mode_val = series[col].mode().iloc[0]\n",
    "        print(f\"Mode for {col}: {mode_val}\")\n",
    "\n",
    "        # Fill missing values with the mode\n",
    "        df[col] = df[col].fillna(mode_val)\n",
    "\n",
    "    except Exception as e:\n",
    "        print(f\"Error while processing {col}: {e}\")\n",
    "        df[col] = df[col].fillna(\"Unknown\")"
   ]
  },
  {
   "cell_type": "code",
   "execution_count": 5,
   "id": "8fbe772b-5c86-41d7-9a92-ffe39294d17c",
   "metadata": {},
   "outputs": [
    {
     "name": "stdout",
     "output_type": "stream",
     "text": [
      "[########################################] | 100% Completed | 440.84 s\n"
     ]
    },
    {
     "data": {
      "text/plain": [
       "['C:\\\\Users\\\\Raj\\\\VI - Week 8.1\\\\first_cleaned.csv']"
      ]
     },
     "execution_count": 5,
     "metadata": {},
     "output_type": "execute_result"
    }
   ],
   "source": [
    "from dask.diagnostics import ProgressBar\n",
    "ProgressBar().register()\n",
    "\n",
    "df.to_csv(\"first_cleaned.csv\", single_file=True, index=False)"
   ]
  },
  {
   "cell_type": "markdown",
   "id": "00d33ba8-b4c6-4670-bf86-154d6818a43c",
   "metadata": {},
   "source": [
    "# Outlier Treatment for 'renta'"
   ]
  },
  {
   "cell_type": "code",
   "execution_count": 2,
   "id": "dc4f266a-d046-4cdd-bb73-53503514b8f6",
   "metadata": {},
   "outputs": [],
   "source": [
    "dtypes = {\n",
    "    'age': 'object',\n",
    "    'antiguedad': 'object',\n",
    "    'renta': 'float64',\n",
    "    'indrel_1mes': 'object',\n",
    "    'conyuemp': 'object',\n",
    "    'ult_fec_cli_1t': 'object',\n",
    "    'tiprel_1mes': 'object',\n",
    "    'canal_entrada': 'object',\n",
    "    'segmento': 'object'\n",
    "}\n",
    "\n",
    "df = dd.read_csv(\"first_cleaned.csv\", dtype=dtypes, assume_missing=True)"
   ]
  },
  {
   "cell_type": "code",
   "execution_count": 3,
   "id": "db909ab0-0436-44f4-9a8e-4ee9e0abc458",
   "metadata": {},
   "outputs": [
    {
     "name": "stdout",
     "output_type": "stream",
     "text": [
      "Clipping renta above upper bound: 273663.8925000001\n"
     ]
    }
   ],
   "source": [
    "# IQR Method - removing extreme top 1%\n",
    "q1 = df['renta'].quantile(0.25).compute()\n",
    "q3 = df['renta'].quantile(0.75).compute()\n",
    "iqr = q3 - q1\n",
    "upper_bound = q3 + 1.5 * iqr\n",
    "\n",
    "# Clipping 'renta' at upper bound\n",
    "print(\"Clipping renta above upper bound:\", upper_bound)\n",
    "df['renta'] = df['renta'].clip(upper=upper_bound)"
   ]
  },
  {
   "cell_type": "code",
   "execution_count": 4,
   "id": "4cb1de2e-4694-4c49-ae84-0769011a3781",
   "metadata": {},
   "outputs": [
    {
     "name": "stdout",
     "output_type": "stream",
     "text": [
      "[########################################] | 100% Completed | 417.14 s\n"
     ]
    },
    {
     "data": {
      "text/plain": [
       "['C:\\\\Users\\\\Raj\\\\VI - Week 8.1\\\\Second_cleaned.csv']"
      ]
     },
     "execution_count": 4,
     "metadata": {},
     "output_type": "execute_result"
    }
   ],
   "source": [
    "from dask.diagnostics import ProgressBar\n",
    "ProgressBar().register()\n",
    "\n",
    "df.to_csv(\"Second_cleaned.csv\", single_file=True, index=False)"
   ]
  },
  {
   "cell_type": "markdown",
   "id": "9eb66869-20b2-49c4-8b23-30443dbdb47f",
   "metadata": {},
   "source": [
    "# Cleaning 'age' and 'antiguedad' for analysis"
   ]
  },
  {
   "cell_type": "code",
   "execution_count": 2,
   "id": "084a2bbe-df73-4928-9c0b-706cb640dfe1",
   "metadata": {},
   "outputs": [],
   "source": [
    "dtypes = {\n",
    "    'age': 'object',\n",
    "    'antiguedad': 'object',\n",
    "    'renta': 'float64',\n",
    "    'indrel_1mes': 'object',\n",
    "    'conyuemp': 'object',\n",
    "    'ult_fec_cli_1t': 'object',\n",
    "    'tiprel_1mes': 'object',\n",
    "    'canal_entrada': 'object',\n",
    "    'segmento': 'object'\n",
    "}\n",
    "\n",
    "df = dd.read_csv(\"second_cleaned.csv\", dtype=dtypes, assume_missing=True)"
   ]
  },
  {
   "cell_type": "code",
   "execution_count": 3,
   "id": "e8559432-3760-49f5-b888-e6937bff53b4",
   "metadata": {},
   "outputs": [],
   "source": [
    "df['age'] = df['age'].str.strip().replace('NA', np.nan).astype(float)\n",
    "df['antiguedad'] = df['antiguedad'].str.strip().replace('NA', np.nan).astype(float)\n",
    "\n",
    "age_medians = df.groupby('segmento')['age'].median().compute()\n",
    "\n",
    "df = df.map_partitions(\n",
    "    lambda d: d.assign(age=d['age'].fillna(d['segmento'].map(age_medians))),\n",
    "    meta=df\n",
    ")\n",
    "\n",
    "df['age'] = df['age'].clip(lower=18, upper=100)"
   ]
  },
  {
   "cell_type": "code",
   "execution_count": 4,
   "id": "a30e9cb7-0544-4ed3-a17f-c30627f53599",
   "metadata": {},
   "outputs": [
    {
     "name": "stdout",
     "output_type": "stream",
     "text": [
      "[########################################] | 100% Completed | 426.79 s\n"
     ]
    },
    {
     "data": {
      "text/plain": [
       "['C:\\\\Users\\\\Raj\\\\VI - Week 8.1\\\\Final_cleaned.csv']"
      ]
     },
     "execution_count": 4,
     "metadata": {},
     "output_type": "execute_result"
    }
   ],
   "source": [
    "from dask.diagnostics import ProgressBar\n",
    "ProgressBar().register()\n",
    "\n",
    "df.to_csv(\"Final_cleaned.csv\", single_file=True, index=False)"
   ]
  },
  {
   "cell_type": "code",
   "execution_count": null,
   "id": "cff95ffc-592f-498d-84f0-ff5faccef791",
   "metadata": {},
   "outputs": [],
   "source": []
  }
 ],
 "metadata": {
  "kernelspec": {
   "display_name": "Python 3 (ipykernel)",
   "language": "python",
   "name": "python3"
  },
  "language_info": {
   "codemirror_mode": {
    "name": "ipython",
    "version": 3
   },
   "file_extension": ".py",
   "mimetype": "text/x-python",
   "name": "python",
   "nbconvert_exporter": "python",
   "pygments_lexer": "ipython3",
   "version": "3.12.9"
  }
 },
 "nbformat": 4,
 "nbformat_minor": 5
}
