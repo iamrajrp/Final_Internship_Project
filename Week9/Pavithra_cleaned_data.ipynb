{
 "cells": [
  {
   "cell_type": "markdown",
   "id": "324a7fac-3680-4c78-a830-9ed99bb01343",
   "metadata": {},
   "source": [
    "# Naga Pavithra Jajala - Data Cleansing Notebook"
   ]
  },
  {
   "cell_type": "code",
   "execution_count": null,
   "id": "1d9a5ec8-213d-448a-b50c-c23bd941263b",
   "metadata": {},
   "outputs": [],
   "source": [
    "import dask.dataframe as dd\n",
    "import numpy as np\n",
    "import pandas as pd"
   ]
  },
  {
   "cell_type": "code",
   "execution_count": null,
   "id": "13025381-7a42-468b-b585-57e7ba1de5cd",
   "metadata": {},
   "outputs": [],
   "source": [
    "dtypes = {\n",
    "    'age': 'object',\n",
    "    'antiguedad': 'object',\n",
    "    'renta': 'float64',\n",
    "    'indrel_1mes': 'object',\n",
    "    'conyuemp': 'object',\n",
    "    'ult_fec_cli_1t': 'object',\n",
    "    'tiprel_1mes': 'object',\n",
    "    'canal_entrada': 'object',\n",
    "    'segmento': 'object'\n",
    "}\n",
    "\n",
    "df = dd.read_csv(r\"C:\\Internship Project\\Train.csv\", dtype=dtypes, assume_missing=True)\n",
    "\n",
    "\n",
    "df['age'] = df['age'].astype(str).str.strip().replace('NA', np.nan).astype(float)\n",
    "df['antiguedad'] = df['antiguedad'].astype(str).str.strip().replace('NA', np.nan).astype(float)"
   ]
  },
  {
   "cell_type": "markdown",
   "id": "1135895a-2565-455a-8ae1-6f7311bb4617",
   "metadata": {},
   "source": [
    "# Imputing 'renta' Using Segment-Wise Median"
   ]
  },
  {
   "cell_type": "code",
   "execution_count": null,
   "id": "7139b62f-8b91-4ddf-a559-776b25d4dab7",
   "metadata": {},
   "outputs": [],
   "source": [
    "def fill_with_segment_median(df):\n",
    "    medians = df.groupby('segmento')['renta'].median().compute()\n",
    "    return df.map_partitions(lambda d: d.assign(\n",
    "        renta=d['renta'].fillna(d['segmento'].map(medians))\n",
    "    ), meta=df)\n",
    "\n",
    "df = fill_with_segment_median(df)"
   ]
  },
  {
   "cell_type": "markdown",
   "id": "bcd496f7-6efd-4d84-b959-3dd27c20368d",
   "metadata": {},
   "source": [
    "# Handling Outliers in 'renta' using IQR Method"
   ]
  },
  {
   "cell_type": "code",
   "execution_count": null,
   "id": "b052a2fd-a750-4105-b0a3-7ed0825a484f",
   "metadata": {},
   "outputs": [],
   "source": [
    "q1 = df['renta'].quantile(0.25).compute()\n",
    "q3 = df['renta'].quantile(0.75).compute()\n",
    "iqr = q3 - q1\n",
    "lower_bound = q1 - 1.5 * iqr\n",
    "upper_bound = q3 + 1.5 * iqr\n",
    "\n",
    "df['renta'] = df['renta'].clip(lower=lower_bound, upper=upper_bound)"
   ]
  },
  {
   "cell_type": "markdown",
   "id": "fd4d3938-9141-4908-a893-25ee941be52f",
   "metadata": {},
   "source": [
    "# Converting 'fecha_alta' to datetime"
   ]
  },
  {
   "cell_type": "code",
   "execution_count": null,
   "id": "62bfe952-abfc-441d-b08a-2dbcc3c19f10",
   "metadata": {},
   "outputs": [],
   "source": [
    "df['fecha_alta'] = dd.to_datetime(df['fecha_alta'], errors='coerce')"
   ]
  },
  {
   "cell_type": "code",
   "execution_count": null,
   "id": "1c2d7e0c-a785-49a4-a925-d2f028ede393",
   "metadata": {},
   "outputs": [],
   "source": [
    "df.to_csv(r\"C:/Internship Project/final_cleaned_pavithra_dask.csv\", single_file=True, index=False)"
   ]
  },
  {
   "cell_type": "code",
   "execution_count": null,
   "id": "07830ee6-7bf9-498a-a46a-7e598938c59b",
   "metadata": {},
   "outputs": [],
   "source": []
  }
 ],
 "metadata": {
  "kernelspec": {
   "display_name": "Python 3 (ipykernel)",
   "language": "python",
   "name": "python3"
  },
  "language_info": {
   "codemirror_mode": {
    "name": "ipython",
    "version": 3
   },
   "file_extension": ".py",
   "mimetype": "text/x-python",
   "name": "python",
   "nbconvert_exporter": "python",
   "pygments_lexer": "ipython3",
   "version": "3.12.9"
  }
 },
 "nbformat": 4,
 "nbformat_minor": 5
}
