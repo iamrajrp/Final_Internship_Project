{
 "cells": [
  {
   "cell_type": "markdown",
   "id": "7820c0ad-1e44-4ea0-a075-448b57b530e0",
   "metadata": {},
   "source": [
    "# Raj Pawar - Data Cleansing Notebook"
   ]
  },
  {
   "cell_type": "code",
   "execution_count": 1,
   "id": "62a77c61-19c7-4542-9908-e6cd0915320a",
   "metadata": {},
   "outputs": [],
   "source": [
    "import dask.dataframe as dd\n",
    "import numpy as np\n",
    "import pandas as pd"
   ]
  },
  {
   "cell_type": "markdown",
   "id": "13bbd755-dc83-4aad-a671-451a83d45a10",
   "metadata": {},
   "source": [
    "# Step 1: Load Data with Dask\n",
    "**Dask will read the CSV in parallel chunks**\n",
    "\n",
    "**dtype overrides help avoid mixed-type errors**"
   ]
  },
  {
   "cell_type": "code",
   "execution_count": 12,
   "id": "d324abb8-9ba4-49fb-8e12-602f99be6ea9",
   "metadata": {},
   "outputs": [],
   "source": [
    "dtypes = {\n",
    "    'age': 'object',\n",
    "    'antiguedad': 'object',\n",
    "    'renta': 'float64',\n",
    "    'indrel_1mes': 'object',\n",
    "    'conyuemp': 'object',\n",
    "    'ult_fec_cli_1t': 'object',\n",
    "    'tiprel_1mes': 'object',\n",
    "    'canal_entrada': 'object',\n",
    "    'segmento': 'object'\n",
    "}"
   ]
  },
  {
   "cell_type": "code",
   "execution_count": 3,
   "id": "5a2f1128-667f-48d1-b27d-7e9d76ff0063",
   "metadata": {},
   "outputs": [],
   "source": [
    "df = dd.read_csv(r\"C:\\After Backup\\Virtual Internship\\Week 7 Project\\Cross Selling\\Cross Selling\\Train.csv\", dtype=dtypes, assume_missing=True)"
   ]
  },
  {
   "cell_type": "markdown",
   "id": "8c7adda8-61e0-45f4-a1c7-8f4e9d96add2",
   "metadata": {},
   "source": [
    "# Step 2: Clean 'age' and 'antiguedad'\n",
    "**Strip spaces and convert to numeric**"
   ]
  },
  {
   "cell_type": "code",
   "execution_count": 4,
   "id": "7cfcdc50-c115-4781-9fce-6b12b8baddf3",
   "metadata": {},
   "outputs": [],
   "source": [
    "df['age'] = df['age'].str.strip().replace('NA', np.nan).astype(float)"
   ]
  },
  {
   "cell_type": "code",
   "execution_count": 6,
   "id": "608262a4-8319-4e59-a592-bd32ac16f1fe",
   "metadata": {},
   "outputs": [],
   "source": [
    "df['antiguedad'] = df['antiguedad'].str.strip().replace('NA', np.nan).astype(float)"
   ]
  },
  {
   "cell_type": "markdown",
   "id": "59c40a46-5606-4968-a038-4263be07df98",
   "metadata": {},
   "source": [
    "# Step 3: Impute 'renta' using median"
   ]
  },
  {
   "cell_type": "code",
   "execution_count": 13,
   "id": "79fe6756-0b13-48af-b97f-c3ae8a9e01d0",
   "metadata": {},
   "outputs": [],
   "source": [
    "renta_median = df['renta'].quantile(0.5).compute()\n",
    "df['renta'] = df['renta'].fillna(renta_median)"
   ]
  },
  {
   "cell_type": "markdown",
   "id": "4062db85-5b67-44b3-aae8-c14b01735d40",
   "metadata": {},
   "source": [
    "# Step 4: Impute 'segmento' using mode"
   ]
  },
  {
   "cell_type": "code",
   "execution_count": 14,
   "id": "56518748-33fa-46c8-84c6-6432fbbe7901",
   "metadata": {},
   "outputs": [],
   "source": [
    "segment_mode = df['segmento'].dropna().value_counts().idxmax().compute()\n",
    "df['segmento'] = df['segmento'].fillna(segment_mode)"
   ]
  },
  {
   "cell_type": "markdown",
   "id": "24586acf-1571-41f8-8fc2-1a1848b7b113",
   "metadata": {},
   "source": [
    "# Step 5: Fill high-missing columns with 'Unknown'"
   ]
  },
  {
   "cell_type": "code",
   "execution_count": 15,
   "id": "f5e5590c-eadd-4782-a2e7-a7b495c9e0ac",
   "metadata": {},
   "outputs": [],
   "source": [
    "df['conyuemp'] = df['conyuemp'].fillna('Unknown')\n",
    "df['ult_fec_cli_1t'] = df['ult_fec_cli_1t'].fillna('Unknown')"
   ]
  },
  {
   "cell_type": "markdown",
   "id": "baa11074-008f-41bb-898a-d10af8696093",
   "metadata": {},
   "source": [
    "# Step 6: Save Cleaned Output"
   ]
  },
  {
   "cell_type": "code",
   "execution_count": 16,
   "id": "52476396-889e-4bc6-86b1-c7caffdec961",
   "metadata": {},
   "outputs": [
    {
     "data": {
      "text/plain": [
       "['C:\\\\After Backup\\\\Virtual Internship\\\\Week 9 Project\\\\final_cleaned_raj_dask.csv']"
      ]
     },
     "execution_count": 16,
     "metadata": {},
     "output_type": "execute_result"
    }
   ],
   "source": [
    "df.to_csv(r\"C:\\After Backup\\Virtual Internship\\Week 9 Project\\final_cleaned_raj_dask.csv\", single_file=True, index=False)"
   ]
  },
  {
   "cell_type": "code",
   "execution_count": null,
   "id": "cb444e4e-49bb-4348-86f6-49ad2a43074d",
   "metadata": {},
   "outputs": [],
   "source": []
  }
 ],
 "metadata": {
  "kernelspec": {
   "display_name": "Python 3 (ipykernel)",
   "language": "python",
   "name": "python3"
  },
  "language_info": {
   "codemirror_mode": {
    "name": "ipython",
    "version": 3
   },
   "file_extension": ".py",
   "mimetype": "text/x-python",
   "name": "python",
   "nbconvert_exporter": "python",
   "pygments_lexer": "ipython3",
   "version": "3.12.9"
  }
 },
 "nbformat": 4,
 "nbformat_minor": 5
}
