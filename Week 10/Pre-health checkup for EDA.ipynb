{
 "cells": [
  {
   "cell_type": "code",
   "execution_count": 1,
   "id": "ec8d61e3-3398-435b-ba6d-ab41e2a1b61c",
   "metadata": {},
   "outputs": [],
   "source": [
    "import dask.dataframe as dd\n",
    "import numpy as np"
   ]
  },
  {
   "cell_type": "code",
   "execution_count": 2,
   "id": "38232893-a8cf-440f-b9df-6ed3c0360f19",
   "metadata": {},
   "outputs": [],
   "source": [
    "dtypes = {\n",
    "    'age': 'float64',\n",
    "    'antiguedad': 'float64',\n",
    "    'renta': 'float64',\n",
    "    'indrel_1mes': 'object',\n",
    "    'conyuemp': 'object',\n",
    "    'ult_fec_cli_1t': 'object',\n",
    "    'tiprel_1mes': 'object',\n",
    "    'canal_entrada': 'object',\n",
    "    'segmento': 'object'\n",
    "}\n",
    "\n",
    "df = dd.read_csv(\"Final_cleaned.csv\", dtype=dtypes, low_memory=False)"
   ]
  },
  {
   "cell_type": "code",
   "execution_count": 3,
   "id": "e0f8e875-fcbe-4564-b94a-4edb95a7df4b",
   "metadata": {},
   "outputs": [
    {
     "name": "stdout",
     "output_type": "stream",
     "text": [
      "Missing values:\n",
      " ind_empleado             27734\n",
      "pais_residencia          27734\n",
      "sexo                     27804\n",
      "fecha_alta               27734\n",
      "ind_nuevo                27734\n",
      "antiguedad               27734\n",
      "indrel                   27734\n",
      "indresi                  27734\n",
      "indext                   27734\n",
      "indfall                  27734\n",
      "tipodom                  27735\n",
      "cod_prov                 93591\n",
      "nomprov                  93591\n",
      "ind_actividad_cliente    27734\n",
      "ind_nomina_ult1          16063\n",
      "ind_nom_pens_ult1        16063\n",
      "dtype: int64\n"
     ]
    }
   ],
   "source": [
    "# 1. Missing values\n",
    "missing = df.isnull().sum().compute()\n",
    "print(\"Missing values:\\n\", missing[missing > 0])"
   ]
  },
  {
   "cell_type": "code",
   "execution_count": 4,
   "id": "0ce95d35-3b0b-4f88-98e1-e2320e136d0a",
   "metadata": {},
   "outputs": [
    {
     "name": "stdout",
     "output_type": "stream",
     "text": [
      "\n",
      "Dtypes:\n",
      " fecha_dato               string[pyarrow]\n",
      "ncodpers                         float64\n",
      "ind_empleado             string[pyarrow]\n",
      "pais_residencia          string[pyarrow]\n",
      "sexo                     string[pyarrow]\n",
      "age                              float64\n",
      "fecha_alta               string[pyarrow]\n",
      "ind_nuevo                        float64\n",
      "antiguedad                       float64\n",
      "indrel                           float64\n",
      "ult_fec_cli_1t           string[pyarrow]\n",
      "indrel_1mes              string[pyarrow]\n",
      "tiprel_1mes              string[pyarrow]\n",
      "indresi                  string[pyarrow]\n",
      "indext                   string[pyarrow]\n",
      "conyuemp                 string[pyarrow]\n",
      "canal_entrada            string[pyarrow]\n",
      "indfall                  string[pyarrow]\n",
      "tipodom                          float64\n",
      "cod_prov                         float64\n",
      "nomprov                  string[pyarrow]\n",
      "ind_actividad_cliente            float64\n",
      "renta                            float64\n",
      "segmento                 string[pyarrow]\n",
      "ind_ahor_fin_ult1                float64\n",
      "ind_aval_fin_ult1                float64\n",
      "ind_cco_fin_ult1                 float64\n",
      "ind_cder_fin_ult1                float64\n",
      "ind_cno_fin_ult1                 float64\n",
      "ind_ctju_fin_ult1                float64\n",
      "ind_ctma_fin_ult1                float64\n",
      "ind_ctop_fin_ult1                float64\n",
      "ind_ctpp_fin_ult1                float64\n",
      "ind_deco_fin_ult1                float64\n",
      "ind_deme_fin_ult1                float64\n",
      "ind_dela_fin_ult1                float64\n",
      "ind_ecue_fin_ult1                float64\n",
      "ind_fond_fin_ult1                float64\n",
      "ind_hip_fin_ult1                 float64\n",
      "ind_plan_fin_ult1                float64\n",
      "ind_pres_fin_ult1                float64\n",
      "ind_reca_fin_ult1                float64\n",
      "ind_tjcr_fin_ult1                float64\n",
      "ind_valo_fin_ult1                float64\n",
      "ind_viv_fin_ult1                 float64\n",
      "ind_nomina_ult1                  float64\n",
      "ind_nom_pens_ult1                float64\n",
      "ind_recibo_ult1                  float64\n",
      "dtype: object\n"
     ]
    }
   ],
   "source": [
    "# 2. Dtypes\n",
    "print(\"\\nDtypes:\\n\", df.dtypes)"
   ]
  },
  {
   "cell_type": "code",
   "execution_count": 7,
   "id": "5f536674-319f-4000-81c9-2f31ce08842e",
   "metadata": {},
   "outputs": [
    {
     "name": "stdout",
     "output_type": "stream",
     "text": [
      "\n",
      "Duplicate customer-date combinations: 0\n"
     ]
    }
   ],
   "source": [
    "# 3. Duplicates\n",
    "dupe_counts = df.groupby(['ncodpers', 'fecha_dato']).size().reset_index() # Count duplicate combinations\n",
    "\n",
    "dupe_counts = dupe_counts.rename(columns={0: 'count'}) # Rename the size column\n",
    "\n",
    "duplicates = dupe_counts[dupe_counts['count'] > 1]['count'].count().compute() # Filter to find duplicates\n",
    "\n",
    "print(f\"\\nDuplicate customer-date combinations: {duplicates}\")"
   ]
  },
  {
   "cell_type": "code",
   "execution_count": 8,
   "id": "3b6577f7-433f-447c-8e1b-af079415ff6e",
   "metadata": {},
   "outputs": [
    {
     "name": "stdout",
     "output_type": "stream",
     "text": [
      "\n",
      "Summary stats:\n",
      "              renta           age    antiguedad\n",
      "count  1.364731e+07  1.364731e+07  1.361958e+07\n",
      "mean   1.200119e+05  4.024009e+01  7.659194e+01\n",
      "std    6.040065e+04  1.707727e+01  1.671807e+03\n",
      "min    1.202730e+03  1.800000e+01 -9.999990e+05\n",
      "25%    1.012124e+05  2.900000e+01  3.500000e+01\n",
      "50%    1.192053e+05  4.400000e+01  1.050000e+02\n",
      "75%    1.702766e+05  6.100000e+01  1.910000e+02\n",
      "max    2.736639e+05  1.000000e+02  2.560000e+02\n"
     ]
    }
   ],
   "source": [
    "# 4. Outliers (renta, age)\n",
    "stats = df[['renta', 'age', 'antiguedad']].describe().compute()\n",
    "print(\"\\nSummary stats:\\n\", stats)"
   ]
  },
  {
   "cell_type": "code",
   "execution_count": 9,
   "id": "2e644a79-f45f-4c9b-81f1-6817bd4978bd",
   "metadata": {},
   "outputs": [
    {
     "name": "stdout",
     "output_type": "stream",
     "text": [
      "\n",
      "Segment counts:\n",
      " segmento\n",
      "02 - PARTICULARES     8149588\n",
      "03 - UNIVERSITARIO    4935579\n",
      "01 - TOP               562142\n",
      "Name: count, dtype: int64[pyarrow]\n"
     ]
    }
   ],
   "source": [
    "# 5. Segment balance\n",
    "print(\"\\nSegment counts:\\n\", df['segmento'].value_counts().compute())"
   ]
  },
  {
   "cell_type": "code",
   "execution_count": 10,
   "id": "78e21b06-3627-4919-a8c2-491a75f9a901",
   "metadata": {},
   "outputs": [
    {
     "name": "stdout",
     "output_type": "stream",
     "text": [
      "\n",
      "Date range:\n",
      " 2015-01-28  to  2016-05-28\n"
     ]
    }
   ],
   "source": [
    "# 6. Fecha_dato validation\n",
    "print(\"\\nDate range:\\n\", df['fecha_dato'].min().compute(), \" to \", df['fecha_dato'].max().compute())"
   ]
  },
  {
   "cell_type": "code",
   "execution_count": 11,
   "id": "5e4a9604-7cbc-4cbb-9e09-c60194465200",
   "metadata": {},
   "outputs": [],
   "source": [
    "# 7. Product column validation\n",
    "product_cols = [col for col in df.columns if col.startswith('ind_') and col.endswith('_ult1')]\n",
    "for col in product_cols:\n",
    "    vals = df[col].dropna().unique().compute()\n",
    "    if not set(vals).issubset({0, 1}):\n",
    "        print(f\"Warning: Unexpected values in {col}: {vals}\")"
   ]
  },
  {
   "cell_type": "code",
   "execution_count": null,
   "id": "3ae43c9a-c026-4e4c-95d3-40840364e133",
   "metadata": {},
   "outputs": [],
   "source": []
  }
 ],
 "metadata": {
  "kernelspec": {
   "display_name": "Python 3 (ipykernel)",
   "language": "python",
   "name": "python3"
  },
  "language_info": {
   "codemirror_mode": {
    "name": "ipython",
    "version": 3
   },
   "file_extension": ".py",
   "mimetype": "text/x-python",
   "name": "python",
   "nbconvert_exporter": "python",
   "pygments_lexer": "ipython3",
   "version": "3.12.9"
  }
 },
 "nbformat": 4,
 "nbformat_minor": 5
}
