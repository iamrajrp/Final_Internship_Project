{
 "cells": [
  {
   "cell_type": "markdown",
   "id": "cc61ae06-1328-4ae3-a372-9c267d808458",
   "metadata": {},
   "source": [
    "# Exploratory Data Analysis"
   ]
  },
  {
   "cell_type": "code",
   "execution_count": 1,
   "id": "99e02322-defa-4b27-b68e-d2074104a3d6",
   "metadata": {},
   "outputs": [],
   "source": [
    "import dask.dataframe as dd\n",
    "import numpy as np"
   ]
  },
  {
   "cell_type": "code",
   "execution_count": 2,
   "id": "535d97cf-0178-4e95-aeee-afb5f1e1cb29",
   "metadata": {},
   "outputs": [],
   "source": [
    "dtypes = {\n",
    "    'age': 'float64',\n",
    "    'antiguedad': 'float64',\n",
    "    'renta': 'float64',\n",
    "    'indrel_1mes': 'object',\n",
    "    'conyuemp': 'object',\n",
    "    'ult_fec_cli_1t': 'object',\n",
    "    'tiprel_1mes': 'object',\n",
    "    'canal_entrada': 'object',\n",
    "    'segmento': 'object'\n",
    "}\n",
    "\n",
    "df = dd.read_csv(\"Final_cleaned.csv\", dtype=dtypes, low_memory=False)"
   ]
  },
  {
   "cell_type": "code",
   "execution_count": 6,
   "id": "e3969251-d2f3-4585-a930-47de657c75b5",
   "metadata": {},
   "outputs": [],
   "source": [
    "rename_dict = {\n",
    "    'ncodpers': 'customer_id',\n",
    "    'ind_empleado': 'employee_index',\n",
    "    'pais_residencia': 'country_of_residence',\n",
    "    'sexo': 'gender',\n",
    "    'age': 'age',\n",
    "    'fecha_alta': 'registration_date',\n",
    "    'ind_nuevo': 'new_customer',\n",
    "    'antiguedad': 'customer_seniority',\n",
    "    'indrel': 'customer_type',\n",
    "    'ult_fec_cli_1t': 'last_primary_date',\n",
    "    'indrel_1mes': 'initial_customer_type',\n",
    "    'tiprel_1mes': 'initial_relation',\n",
    "    'indresi': 'resident_index',\n",
    "    'indext': 'foreigner_index',\n",
    "    'conyuemp': 'spouse_index',\n",
    "    'canal_entrada': 'joining_channel',\n",
    "    'indfall': 'deceased',\n",
    "    'tipodom': 'address_type',\n",
    "    'cod_prov': 'province_code',\n",
    "    'nomprov': 'province_name',\n",
    "    'ind_actividad_cliente': 'active_customer',\n",
    "    'renta': 'income',\n",
    "    'segmento': 'customer_segment'\n",
    "}\n",
    "\n",
    "df = df.rename(columns=rename_dict) #Applying renames to columns for better readability\n",
    "\n",
    "df['gender'] = df['gender'].replace({'H': 'Male', 'V': 'Female'}) # \"H\" - Hombre - Male and \"V\" - Mujer/Varón - Female"
   ]
  },
  {
   "cell_type": "markdown",
   "id": "a9852663-393f-4640-93f5-20ebac4057fe",
   "metadata": {},
   "source": [
    "# 1: Customer Profile Analysis"
   ]
  },
  {
   "cell_type": "code",
   "execution_count": 4,
   "id": "13ab9228-3f72-4d41-857d-f5a33ffd60b0",
   "metadata": {},
   "outputs": [
    {
     "name": "stdout",
     "output_type": "stream",
     "text": [
      "\n",
      "--- Gender Distribution ---\n",
      "gender\n",
      "H    6195253\n",
      "V    7424252\n",
      "Name: count, dtype: int64[pyarrow]\n",
      "\n",
      "--- Age Summary ---\n",
      "count    1.364731e+07\n",
      "mean     4.024009e+01\n",
      "std      1.707727e+01\n",
      "min      1.800000e+01\n",
      "25%      2.900000e+01\n",
      "50%      4.400000e+01\n",
      "75%      6.100000e+01\n",
      "max      1.000000e+02\n",
      "Name: age, dtype: float64\n",
      "\n",
      "--- Customer Segment Distribution ---\n",
      "customer_segment\n",
      "02 - PARTICULARES     8149588\n",
      "03 - UNIVERSITARIO    4935579\n",
      "01 - TOP               562142\n",
      "Name: count, dtype: int64[pyarrow]\n",
      "\n",
      "--- Top 10 Countries by Customer Count ---\n",
      "country_of_residence\n",
      "ES    13553710\n",
      "FR        5161\n",
      "AR        4835\n",
      "DE        4625\n",
      "GB        4605\n",
      "US        3651\n",
      "CO        3526\n",
      "IT        2947\n",
      "RO        2931\n",
      "MX        2573\n",
      "Name: count, dtype: int64[pyarrow]\n",
      "\n",
      "--- Customer Seniority Summary ---\n",
      "count    1.361958e+07\n",
      "mean     7.659194e+01\n",
      "std      1.671807e+03\n",
      "min     -9.999990e+05\n",
      "25%      3.500000e+01\n",
      "50%      1.050000e+02\n",
      "75%      1.910000e+02\n",
      "max      2.560000e+02\n",
      "Name: customer_seniority, dtype: float64\n"
     ]
    }
   ],
   "source": [
    "# Gender distribution\n",
    "print(\"\\n--- Gender Distribution ---\")\n",
    "print(df['gender'].value_counts().compute())\n",
    "\n",
    "# Age distribution\n",
    "print(\"\\n--- Age Summary ---\")\n",
    "print(df['age'].describe().compute())\n",
    "\n",
    "# Customer Segment distribution\n",
    "print(\"\\n--- Customer Segment Distribution ---\")\n",
    "print(df['customer_segment'].value_counts().compute())\n",
    "\n",
    "# Country of residence\n",
    "print(\"\\n--- Top 10 Countries by Customer Count ---\")\n",
    "print(df['country_of_residence'].value_counts().nlargest(10).compute())\n",
    "\n",
    "# Customer seniority (in months)\n",
    "print(\"\\n--- Customer Seniority Summary ---\")\n",
    "print(df['customer_seniority'].describe().compute())"
   ]
  },
  {
   "cell_type": "code",
   "execution_count": 5,
   "id": "1e54e5ff-09e6-48f6-9c76-ed2ada5f7172",
   "metadata": {},
   "outputs": [
    {
     "name": "stdout",
     "output_type": "stream",
     "text": [
      "count    1.361954e+07\n",
      "mean     7.938226e+01\n",
      "std      6.637447e+01\n",
      "min      0.000000e+00\n",
      "25%      3.500000e+01\n",
      "50%      1.050000e+02\n",
      "75%      1.910000e+02\n",
      "max      2.560000e+02\n",
      "Name: customer_seniority, dtype: float64\n"
     ]
    }
   ],
   "source": [
    "# Fixing extreme invalid seniority\n",
    "df['customer_seniority'] = df['customer_seniority'].mask(df['customer_seniority'] < 0, np.nan)\n",
    "\n",
    "print(df['customer_seniority'].describe().compute())"
   ]
  },
  {
   "cell_type": "code",
   "execution_count": null,
   "id": "6597820b-ae04-4afc-9229-217baeb1fe7a",
   "metadata": {},
   "outputs": [],
   "source": []
  }
 ],
 "metadata": {
  "kernelspec": {
   "display_name": "Python 3 (ipykernel)",
   "language": "python",
   "name": "python3"
  },
  "language_info": {
   "codemirror_mode": {
    "name": "ipython",
    "version": 3
   },
   "file_extension": ".py",
   "mimetype": "text/x-python",
   "name": "python",
   "nbconvert_exporter": "python",
   "pygments_lexer": "ipython3",
   "version": "3.12.9"
  }
 },
 "nbformat": 4,
 "nbformat_minor": 5
}
